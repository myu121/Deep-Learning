{
 "cells": [
  {
   "cell_type": "code",
   "execution_count": 1,
   "metadata": {},
   "outputs": [],
   "source": [
    "import torch\n",
    "import torch.nn as nn\n",
    "import torch.nn.functional as F\n",
    "from torchvision import datasets, transforms\n",
    "import numpy as np\n",
    "from tqdm import tqdm_notebook as tqdm\n",
    "\n",
    "\n",
    "if torch.cuda.is_available():\n",
    "    device = torch.device('cuda')\n",
    "else:\n",
    "    device = torch.device('cpu')"
   ]
  },
  {
   "cell_type": "code",
   "execution_count": 2,
   "metadata": {},
   "outputs": [],
   "source": [
    "batch_size = 128"
   ]
  },
  {
   "cell_type": "code",
   "execution_count": 3,
   "metadata": {},
   "outputs": [
    {
     "name": "stdout",
     "output_type": "stream",
     "text": [
      "Files already downloaded and verified\n",
      "Files already downloaded and verified\n"
     ]
    }
   ],
   "source": [
    "trainset = datasets.CIFAR10(root='./data', train=True,\n",
    "                            download=True, transform=transforms.ToTensor())\n",
    "trainloader = torch.utils.data.DataLoader(trainset, batch_size=batch_size,\n",
    "                                          shuffle=True, num_workers=4)\n",
    "\n",
    "testset = datasets.CIFAR10(root='./data', train=False,\n",
    "                           download=True, transform=transforms.ToTensor())\n",
    "testloader = torch.utils.data.DataLoader(testset, batch_size=batch_size,\n",
    "                                         shuffle=False, num_workers=4)"
   ]
  },
  {
   "cell_type": "code",
   "execution_count": 4,
   "metadata": {},
   "outputs": [],
   "source": [
    "class Net(nn.Module):\n",
    "    def __init__(self):\n",
    "        super(Net, self).__init__()\n",
    "        self.fc1 = nn.Linear(32 * 32 * 3, 1024)\n",
    "        self.fc2 = nn.Linear(1024, 1024)\n",
    "        self.fc3 = nn.Linear(1024, 10)\n",
    "\n",
    "    def forward(self, x):\n",
    "        x = x.view(-1, 32 * 32 * 3)\n",
    "        x = F.relu(self.fc1(x))\n",
    "        x = F.relu(self.fc2(x))\n",
    "        x = self.fc3(x)\n",
    "        \n",
    "        return x"
   ]
  },
  {
   "cell_type": "code",
   "execution_count": 5,
   "metadata": {},
   "outputs": [],
   "source": [
    "def epoch_train(model, trainloader, optimizer, criterion):\n",
    "    model.train()\n",
    " \n",
    "    for x_train, y_train in trainloader:\n",
    "        x_train = x_train.to(device)\n",
    "        y_train = y_train.to(device)\n",
    "        \n",
    "        output = model(x_train)\n",
    "        \n",
    "        optimizer.zero_grad()\n",
    "        loss = criterion(output, y_train)\n",
    "        loss.backward()\n",
    "        optimizer.step()\n",
    "\n",
    "\n",
    "\n",
    "def epoch_eval(model, testloader):\n",
    "    model.eval()\n",
    "    \n",
    "    correct = 0\n",
    "    total = 0\n",
    "    for x_test, y_test in testloader:\n",
    "        x_test = x_test.to(device)\n",
    "        y_test = y_test.to(device)\n",
    "\n",
    "        output = model(x_test)\n",
    "        _, predicted = torch.max(output.data, 1)\n",
    "        total += y_test.size(0)\n",
    "        correct += (predicted == y_test).sum().item()\n",
    "        \n",
    "    return correct / total"
   ]
  },
  {
   "cell_type": "code",
   "execution_count": 6,
   "metadata": {},
   "outputs": [],
   "source": [
    "model = Net()\n",
    "model.to(device)\n",
    "\n",
    "# specify loss function\n",
    "criterion = nn.CrossEntropyLoss()\n",
    "\n",
    "# specify optimizer\n",
    "optimizer = torch.optim.SGD(model.parameters(), lr=0.01)\n",
    "\n",
    "# number of epochs\n",
    "n_epoch = int(128000 / len(trainloader))"
   ]
  },
  {
   "cell_type": "code",
   "execution_count": 7,
   "metadata": {},
   "outputs": [
    {
     "data": {
      "application/vnd.jupyter.widget-view+json": {
       "model_id": "ca1a2ea2b87f43a89e58882a5061e265",
       "version_major": 2,
       "version_minor": 0
      },
      "text/plain": [
       "HBox(children=(IntProgress(value=0, max=327), HTML(value='')))"
      ]
     },
     "metadata": {},
     "output_type": "display_data"
    },
    {
     "name": "stdout",
     "output_type": "stream",
     "text": [
      "Train Accuracy: 0.2676  Test Accuracy: 0.2684\n",
      "Train Accuracy: 0.4324  Test Accuracy: 0.4360\n",
      "Train Accuracy: 0.4772  Test Accuracy: 0.4644\n",
      "Train Accuracy: 0.5342  Test Accuracy: 0.5049\n",
      "Train Accuracy: 0.5413  Test Accuracy: 0.4970\n",
      "Train Accuracy: 0.5997  Test Accuracy: 0.5370\n",
      "Train Accuracy: 0.5771  Test Accuracy: 0.5016\n",
      "Train Accuracy: 0.6387  Test Accuracy: 0.5397\n",
      "Train Accuracy: 0.6293  Test Accuracy: 0.5131\n",
      "Train Accuracy: 0.6834  Test Accuracy: 0.5463\n",
      "Train Accuracy: 0.6811  Test Accuracy: 0.5334\n",
      "Train Accuracy: 0.7516  Test Accuracy: 0.5565\n",
      "Train Accuracy: 0.6051  Test Accuracy: 0.4665\n",
      "Train Accuracy: 0.7731  Test Accuracy: 0.5481\n",
      "Train Accuracy: 0.8033  Test Accuracy: 0.5496\n",
      "Train Accuracy: 0.7868  Test Accuracy: 0.5207\n",
      "Train Accuracy: 0.8502  Test Accuracy: 0.5480\n",
      "Train Accuracy: 0.8292  Test Accuracy: 0.5386\n",
      "Train Accuracy: 0.8627  Test Accuracy: 0.5478\n",
      "Train Accuracy: 0.9199  Test Accuracy: 0.5623\n",
      "Train Accuracy: 0.9298  Test Accuracy: 0.5544\n",
      "Train Accuracy: 0.9321  Test Accuracy: 0.5578\n",
      "Train Accuracy: 0.9513  Test Accuracy: 0.5615\n",
      "Train Accuracy: 0.9640  Test Accuracy: 0.5553\n",
      "Train Accuracy: 0.9364  Test Accuracy: 0.5473\n",
      "Train Accuracy: 0.9591  Test Accuracy: 0.5509\n",
      "Train Accuracy: 0.9834  Test Accuracy: 0.5566\n",
      "Train Accuracy: 0.9890  Test Accuracy: 0.5587\n",
      "Train Accuracy: 0.9918  Test Accuracy: 0.5610\n",
      "Train Accuracy: 0.9608  Test Accuracy: 0.5533\n",
      "Train Accuracy: 0.9785  Test Accuracy: 0.5556\n",
      "Train Accuracy: 0.9971  Test Accuracy: 0.5648\n",
      "Train Accuracy: 0.9985  Test Accuracy: 0.5622\n",
      "\n"
     ]
    }
   ],
   "source": [
    "# model training\n",
    "for i in tqdm(range(n_epoch)):\n",
    "    acc_test_epochs = []\n",
    "    epoch_train(model, trainloader, optimizer, criterion)\n",
    "    acc_test = epoch_eval(model, testloader)\n",
    "    acc_train = epoch_eval(model, trainloader)\n",
    "    if i % 10 == 0:\n",
    "        print('Train Accuracy: {:.4f}  Test Accuracy: {:.4f}'.format(acc_train, acc_test))\n",
    "    acc_test_epochs.append(acc_test)"
   ]
  },
  {
   "cell_type": "code",
   "execution_count": null,
   "metadata": {},
   "outputs": [],
   "source": []
  },
  {
   "cell_type": "code",
   "execution_count": null,
   "metadata": {},
   "outputs": [],
   "source": []
  }
 ],
 "metadata": {
  "kernelspec": {
   "display_name": "Python 3",
   "language": "python",
   "name": "python3"
  },
  "language_info": {
   "codemirror_mode": {
    "name": "ipython",
    "version": 3
   },
   "file_extension": ".py",
   "mimetype": "text/x-python",
   "name": "python",
   "nbconvert_exporter": "python",
   "pygments_lexer": "ipython3",
   "version": "3.7.3"
  }
 },
 "nbformat": 4,
 "nbformat_minor": 2
}
