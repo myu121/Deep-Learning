{
 "cells": [
  {
   "cell_type": "code",
   "execution_count": 1,
   "metadata": {},
   "outputs": [
    {
     "name": "stderr",
     "output_type": "stream",
     "text": [
      "Using TensorFlow backend.\n"
     ]
    }
   ],
   "source": [
    "from keras.datasets import cifar10\n",
    "from keras.layers import Input, Dense\n",
    "from keras.models import Model\n",
    "from keras import optimizers\n",
    "from keras import regularizers\n",
    "from keras.utils import to_categorical\n",
    "import numpy as np"
   ]
  },
  {
   "cell_type": "code",
   "execution_count": 2,
   "metadata": {},
   "outputs": [],
   "source": [
    "(x_train, y_train), (x_test, y_test) = cifar10.load_data()"
   ]
  },
  {
   "cell_type": "code",
   "execution_count": 3,
   "metadata": {},
   "outputs": [],
   "source": [
    "x_train=x_train[np.where(y_train==5)[0],]\n",
    "y_train=y_train[np.where(y_train==5)[0]]\n",
    "x_test=x_test[np.where(y_test==5)[0],]\n",
    "y_test=y_test[np.where(y_test==5)[0]]"
   ]
  },
  {
   "cell_type": "code",
   "execution_count": 4,
   "metadata": {},
   "outputs": [
    {
     "name": "stdout",
     "output_type": "stream",
     "text": [
      "(5000, 32, 32, 3)\n",
      "(1000, 32, 32, 3)\n"
     ]
    }
   ],
   "source": [
    "print(x_train.shape)\n",
    "print(x_test.shape)"
   ]
  },
  {
   "cell_type": "code",
   "execution_count": 5,
   "metadata": {},
   "outputs": [
    {
     "name": "stdout",
     "output_type": "stream",
     "text": [
      "255\n",
      "(5000, 3072)\n",
      "(1000, 3072)\n"
     ]
    }
   ],
   "source": [
    "m = max(x_train.flatten())\n",
    "print(m)\n",
    "x_train = x_train/m\n",
    "x_test = x_test/m\n",
    "x_train = x_train.reshape((len(x_train), np.prod(x_train.shape[1:])))\n",
    "x_test = x_test.reshape((len(x_test), np.prod(x_test.shape[1:])))\n",
    "print(x_train.shape)\n",
    "print(x_test.shape)\n",
    "y_train = to_categorical(y_train, 10)\n",
    "y_test = to_categorical(y_test, 10)"
   ]
  },
  {
   "cell_type": "raw",
   "metadata": {},
   "source": [
    "# this is the size of our encoded representations\n",
    "encoding_dim = 64  # 32 floats -> compression of factor 24.5, assuming the input is 784 floats\n",
    "hidden_units = 512\n",
    "#learning_rate=0.01\n",
    "weight_decay=0.99\n",
    "regul=regularizers.l2((1-weight_decay))\n",
    "#regul=regularizers.l2((1-weight_decay)/learning_rate)\n",
    "# this is our input placeholder\n",
    "input_img = Input(shape=(3072,))\n",
    "\n",
    "# \"encoded\" is the encoded representation of the input\n",
    "x1 = Dense(hidden_units, activation='linear')(input_img)\n",
    "x2 = Dense(hidden_units, activation='sigmoid')(x1)\n",
    "x3 = Dense(hidden_units, activation='sigmoid')(x2)\n",
    "x4 = Dense(hidden_units, activation='sigmoid')(x3)\n",
    "encoded = Dense(encoding_dim, activation='sigmoid')(x4)\n",
    "\n",
    "# \"decoded\" is the lossy reconstruction of the input\n",
    "y1 = Dense(hidden_units, activation='sigmoid')(encoded)\n",
    "y2 = Dense(hidden_units, activation='sigmoid')(y1)\n",
    "decoded = Dense(3072, activation='sigmoid', kernel_regularizer=regul)(y2)\n",
    "\n",
    "# this model maps an input to its reconstruction\n",
    "autoencoder = Model(input_img, decoded)"
   ]
  },
  {
   "cell_type": "code",
   "execution_count": 6,
   "metadata": {},
   "outputs": [
    {
     "name": "stdout",
     "output_type": "stream",
     "text": [
      "WARNING:tensorflow:From /Users/miaoyu/anaconda3/lib/python3.7/site-packages/keras/backend/tensorflow_backend.py:66: The name tf.get_default_graph is deprecated. Please use tf.compat.v1.get_default_graph instead.\n",
      "\n",
      "WARNING:tensorflow:From /Users/miaoyu/anaconda3/lib/python3.7/site-packages/keras/backend/tensorflow_backend.py:541: The name tf.placeholder is deprecated. Please use tf.compat.v1.placeholder instead.\n",
      "\n",
      "WARNING:tensorflow:From /Users/miaoyu/anaconda3/lib/python3.7/site-packages/keras/backend/tensorflow_backend.py:4432: The name tf.random_uniform is deprecated. Please use tf.random.uniform instead.\n",
      "\n"
     ]
    }
   ],
   "source": [
    "# this is the size of our encoded representations\n",
    "encoding_dim = 64  # 32 floats -> compression of factor 24.5, assuming the input is 784 floats\n",
    "hidden_units = 512\n",
    "#learning_rate=0.01\n",
    "#weight_decay=0.95\n",
    "#(1-weight_decay)/learning_rate\n",
    "#regul=regularizers.l2(0.01)\n",
    "# this is our input placeholder\n",
    "input_img = Input(shape=(3072,))\n",
    "\n",
    "# \"encoded\" is the encoded representation of the input\n",
    "x1 = Dense(hidden_units, activation='linear')(input_img)\n",
    "x2 = Dense(hidden_units, activation='sigmoid')(x1)\n",
    "x3 = Dense(hidden_units, activation='sigmoid')(x2)\n",
    "x4 = Dense(hidden_units, activation='sigmoid')(x3)\n",
    "encoded = Dense(encoding_dim, activation='sigmoid')(x4)\n",
    "\n",
    "# \"decoded\" is the lossy reconstruction of the input\n",
    "y1 = Dense(hidden_units, activation='sigmoid')(encoded)\n",
    "y2 = Dense(hidden_units, activation='sigmoid')(y1)\n",
    "y3 = Dense(hidden_units, activation='sigmoid')(y2)\n",
    "decoded = Dense(3072, activation='sigmoid')(y3)\n",
    "\n",
    "# this model maps an input to its reconstruction\n",
    "autoencoder = Model(input_img, decoded)"
   ]
  },
  {
   "cell_type": "code",
   "execution_count": 7,
   "metadata": {},
   "outputs": [],
   "source": [
    "encoder = Model(input_img, encoded)"
   ]
  },
  {
   "cell_type": "code",
   "execution_count": 8,
   "metadata": {},
   "outputs": [],
   "source": [
    "# create a placeholder for an encoded (64-dimensional) input\n",
    "encoded_input = Input(shape=(encoding_dim,))\n",
    "# retrieve the last layers of the autoencoder model\n",
    "decoder_layer1 = autoencoder.layers[-4](encoded_input)\n",
    "decoder_layer2 = autoencoder.layers[-3](decoder_layer1 )\n",
    "decoder_layer3 = autoencoder.layers[-2](decoder_layer2 )\n",
    "decoder_layer4 = autoencoder.layers[-1](decoder_layer3 )\n",
    "# create the decoder model\n",
    "decoder = Model(encoded_input, decoder_layer4)"
   ]
  },
  {
   "cell_type": "code",
   "execution_count": 9,
   "metadata": {},
   "outputs": [
    {
     "name": "stdout",
     "output_type": "stream",
     "text": [
      "WARNING:tensorflow:From /Users/miaoyu/anaconda3/lib/python3.7/site-packages/keras/optimizers.py:793: The name tf.train.Optimizer is deprecated. Please use tf.compat.v1.train.Optimizer instead.\n",
      "\n"
     ]
    }
   ],
   "source": [
    "#sgd = optimizers.SGD(lr=0.01)\n",
    "autoencoder.compile(optimizer=\"adadelta\", loss='mean_squared_error')"
   ]
  },
  {
   "cell_type": "code",
   "execution_count": 10,
   "metadata": {},
   "outputs": [
    {
     "name": "stdout",
     "output_type": "stream",
     "text": [
      "WARNING:tensorflow:From /Users/miaoyu/anaconda3/lib/python3.7/site-packages/keras/backend/tensorflow_backend.py:1033: The name tf.assign_add is deprecated. Please use tf.compat.v1.assign_add instead.\n",
      "\n",
      "WARNING:tensorflow:From /Users/miaoyu/anaconda3/lib/python3.7/site-packages/keras/backend/tensorflow_backend.py:1020: The name tf.assign is deprecated. Please use tf.compat.v1.assign instead.\n",
      "\n",
      "Train on 5000 samples, validate on 1000 samples\n",
      "Epoch 1/10\n",
      "5000/5000 [==============================] - 4s 873us/step - loss: 0.0672 - val_loss: 0.0660\n",
      "Epoch 2/10\n",
      "5000/5000 [==============================] - 3s 690us/step - loss: 0.0647 - val_loss: 0.0642\n",
      "Epoch 3/10\n",
      "5000/5000 [==============================] - 3s 691us/step - loss: 0.0632 - val_loss: 0.0631\n",
      "Epoch 4/10\n",
      "5000/5000 [==============================] - 4s 735us/step - loss: 0.0622 - val_loss: 0.0624\n",
      "Epoch 5/10\n",
      "5000/5000 [==============================] - 4s 727us/step - loss: 0.0616 - val_loss: 0.0620\n",
      "Epoch 6/10\n",
      "5000/5000 [==============================] - 4s 775us/step - loss: 0.0612 - val_loss: 0.0617\n",
      "Epoch 7/10\n",
      "5000/5000 [==============================] - 4s 737us/step - loss: 0.0609 - val_loss: 0.0615\n",
      "Epoch 8/10\n",
      "5000/5000 [==============================] - 4s 727us/step - loss: 0.0607 - val_loss: 0.0614\n",
      "Epoch 9/10\n",
      "5000/5000 [==============================] - 4s 719us/step - loss: 0.0606 - val_loss: 0.0614\n",
      "Epoch 10/10\n",
      "5000/5000 [==============================] - 4s 735us/step - loss: 0.0606 - val_loss: 0.0614\n"
     ]
    },
    {
     "data": {
      "text/plain": [
       "<keras.callbacks.History at 0x1084a2f98>"
      ]
     },
     "execution_count": 10,
     "metadata": {},
     "output_type": "execute_result"
    }
   ],
   "source": [
    "autoencoder.fit(x_train, x_train,\n",
    "                epochs=(400*120)//5000+1,\n",
    "                batch_size=120,\n",
    "                shuffle=True,\n",
    "                validation_data=(x_test, x_test))"
   ]
  },
  {
   "cell_type": "code",
   "execution_count": 11,
   "metadata": {},
   "outputs": [
    {
     "name": "stdout",
     "output_type": "stream",
     "text": [
      "1000/1000 [==============================] - 0s 276us/step\n"
     ]
    },
    {
     "data": {
      "text/plain": [
       "0.061359957098960874"
      ]
     },
     "execution_count": 11,
     "metadata": {},
     "output_type": "execute_result"
    }
   ],
   "source": [
    "autoencoder.evaluate(x_test, x_test)"
   ]
  },
  {
   "cell_type": "code",
   "execution_count": 12,
   "metadata": {},
   "outputs": [
    {
     "data": {
      "text/plain": [
       "(1000, 3072)"
      ]
     },
     "execution_count": 12,
     "metadata": {},
     "output_type": "execute_result"
    }
   ],
   "source": [
    "x_test.shape"
   ]
  },
  {
   "cell_type": "code",
   "execution_count": 12,
   "metadata": {},
   "outputs": [],
   "source": [
    "# encode and decode some digits\n",
    "# note that we take them from the *test* set\n",
    "encoded_imgs = encoder.predict(x_test)\n",
    "decoded_imgs = decoder.predict(encoded_imgs)"
   ]
  },
  {
   "cell_type": "code",
   "execution_count": 13,
   "metadata": {},
   "outputs": [
    {
     "data": {
      "text/plain": [
       "(1000, 64)"
      ]
     },
     "execution_count": 13,
     "metadata": {},
     "output_type": "execute_result"
    }
   ],
   "source": [
    "encoded_imgs.shape"
   ]
  },
  {
   "cell_type": "code",
   "execution_count": 14,
   "metadata": {},
   "outputs": [
    {
     "data": {
      "text/plain": [
       "array([0.49578428, 0.5944806 , 0.5514058 , 0.58586144, 0.283439  ,\n",
       "       0.34928876, 0.5826733 , 0.6299073 , 0.7797759 , 0.50883734,\n",
       "       0.7280519 , 0.55145425, 0.5193663 , 0.56664896, 0.74516106,\n",
       "       0.42633116, 0.5652197 , 0.536875  , 0.5607106 , 0.6737611 ,\n",
       "       0.44541872, 0.5098812 , 0.3971266 , 0.3525973 , 0.7561842 ,\n",
       "       0.5919066 , 0.33153188, 0.6423144 , 0.3852397 , 0.66457605,\n",
       "       0.40167165, 0.7119063 , 0.61502975, 0.52003187, 0.42085266,\n",
       "       0.5113183 , 0.7318413 , 0.3870432 , 0.57545584, 0.48157448,\n",
       "       0.6705413 , 0.7664868 , 0.51621443, 0.24644381, 0.5007513 ,\n",
       "       0.5199523 , 0.38569814, 0.5825246 , 0.65354526, 0.29888684,\n",
       "       0.7658221 , 0.3634699 , 0.78455853, 0.62820774, 0.49716386,\n",
       "       0.3882094 , 0.4022666 , 0.5184251 , 0.23482028, 0.53926915,\n",
       "       0.45012003, 0.633097  , 0.630264  , 0.33386832], dtype=float32)"
      ]
     },
     "execution_count": 14,
     "metadata": {},
     "output_type": "execute_result"
    }
   ],
   "source": [
    "encoded_imgs[0]"
   ]
  },
  {
   "cell_type": "code",
   "execution_count": 15,
   "metadata": {},
   "outputs": [
    {
     "data": {
      "text/plain": [
       "array([0.43835402, 0.42952695, 0.37832937, ..., 0.4769195 , 0.4643607 ,\n",
       "       0.42415717], dtype=float32)"
      ]
     },
     "execution_count": 15,
     "metadata": {},
     "output_type": "execute_result"
    }
   ],
   "source": [
    "decoded_imgs[0]"
   ]
  },
  {
   "cell_type": "code",
   "execution_count": 17,
   "metadata": {},
   "outputs": [],
   "source": [
    "a=autoencoder.predict(x_test[1].reshape(1, 3072))"
   ]
  },
  {
   "cell_type": "code",
   "execution_count": 18,
   "metadata": {},
   "outputs": [
    {
     "data": {
      "text/plain": [
       "array([[0.43835518, 0.42952695, 0.3783293 , ..., 0.47691807, 0.46435836,\n",
       "        0.42415878]], dtype=float32)"
      ]
     },
     "execution_count": 18,
     "metadata": {},
     "output_type": "execute_result"
    }
   ],
   "source": [
    "a"
   ]
  },
  {
   "cell_type": "code",
   "execution_count": 19,
   "metadata": {},
   "outputs": [
    {
     "data": {
      "text/plain": [
       "array([0.37254902, 0.29803922, 0.30588235, ..., 0.08627451, 0.04313725,\n",
       "       0.10980392])"
      ]
     },
     "execution_count": 19,
     "metadata": {},
     "output_type": "execute_result"
    }
   ],
   "source": [
    "x_test[1]"
   ]
  },
  {
   "cell_type": "code",
   "execution_count": 20,
   "metadata": {},
   "outputs": [
    {
     "data": {
      "text/plain": [
       "(3072,)"
      ]
     },
     "execution_count": 20,
     "metadata": {},
     "output_type": "execute_result"
    }
   ],
   "source": [
    "a[0].shape"
   ]
  },
  {
   "cell_type": "code",
   "execution_count": 21,
   "metadata": {},
   "outputs": [],
   "source": [
    "import matplotlib.pyplot as plt"
   ]
  },
  {
   "cell_type": "code",
   "execution_count": 22,
   "metadata": {},
   "outputs": [
    {
     "data": {
      "text/plain": [
       "<matplotlib.image.AxesImage at 0xb2e7d4f28>"
      ]
     },
     "execution_count": 22,
     "metadata": {},
     "output_type": "execute_result"
    },
    {
     "data": {
      "image/png": "[encoded data removed]",
      "text/plain": [
       "<Figure size 432x288 with 1 Axes>"
      ]
     },
     "metadata": {
      "needs_background": "light"
     },
     "output_type": "display_data"
    }
   ],
   "source": [
    "plt.imshow(x_test[1].reshape(32, 32, 3))"
   ]
  },
  {
   "cell_type": "code",
   "execution_count": 27,
   "metadata": {},
   "outputs": [
    {
     "data": {
      "text/plain": [
       "numpy.ndarray"
      ]
     },
     "execution_count": 27,
     "metadata": {},
     "output_type": "execute_result"
    }
   ],
   "source": [
    "type(x_test[1])"
   ]
  },
  {
   "cell_type": "code",
   "execution_count": 31,
   "metadata": {},
   "outputs": [],
   "source": [
    "import matplotlib\n",
    "matplotlib.image.imsave('dog1.png', x_test[1].reshape(32, 32, 3))"
   ]
  },
  {
   "cell_type": "code",
   "execution_count": 23,
   "metadata": {},
   "outputs": [
    {
     "data": {
      "text/plain": [
       "263.8540506352998"
      ]
     },
     "execution_count": 23,
     "metadata": {},
     "output_type": "execute_result"
    }
   ],
   "source": [
    "sum(sum((a-x_test[1])**2))"
   ]
  },
  {
   "cell_type": "code",
   "execution_count": 24,
   "metadata": {},
   "outputs": [
    {
     "data": {
      "text/plain": [
       "<matplotlib.image.AxesImage at 0xb2f72fb00>"
      ]
     },
     "execution_count": 24,
     "metadata": {},
     "output_type": "execute_result"
    },
    {
     "data": {
      "image/png": "[encoded data removed]",
      "text/plain": [
       "<Figure size 432x288 with 1 Axes>"
      ]
     },
     "metadata": {
      "needs_background": "light"
     },
     "output_type": "display_data"
    }
   ],
   "source": [
    "plt.imshow(a.reshape(32, 32, 3))"
   ]
  },
  {
   "cell_type": "code",
   "execution_count": 30,
   "metadata": {},
   "outputs": [],
   "source": [
    "matplotlib.image.imsave('dog2.png', a.reshape(32, 32, 3))"
   ]
  },
  {
   "cell_type": "code",
   "execution_count": 25,
   "metadata": {},
   "outputs": [
    {
     "data": {
      "image/png": "[encoded data removed]",
      "text/plain": [
       "<Figure size 1440x288 with 20 Axes>"
      ]
     },
     "metadata": {
      "needs_background": "light"
     },
     "output_type": "display_data"
    }
   ],
   "source": [
    "# use Matplotlib (don't ask)\n",
    "import matplotlib.pyplot as plt\n",
    "\n",
    "n = 10  # how many digits we will display\n",
    "plt.figure(figsize=(20, 4))\n",
    "for i in range(n):\n",
    "    # display original\n",
    "    ax = plt.subplot(2, n, i + 1)\n",
    "    plt.imshow(x_test[i].reshape(32, 32, 3))\n",
    "    plt.gray()\n",
    "    ax.get_xaxis().set_visible(False)\n",
    "    ax.get_yaxis().set_visible(False)\n",
    "\n",
    "    # display reconstruction\n",
    "    ax = plt.subplot(2, n, i + 1 + n)\n",
    "    plt.imshow(decoded_imgs[i].reshape(32, 32, 3))\n",
    "    plt.gray()\n",
    "    ax.get_xaxis().set_visible(False)\n",
    "    ax.get_yaxis().set_visible(False)\n",
    "plt.show()"
   ]
  },
  {
   "cell_type": "code",
   "execution_count": null,
   "metadata": {},
   "outputs": [],
   "source": []
  },
  {
   "cell_type": "code",
   "execution_count": null,
   "metadata": {},
   "outputs": [],
   "source": []
  }
 ],
 "metadata": {
  "kernelspec": {
   "display_name": "Python 3",
   "language": "python",
   "name": "python3"
  },
  "language_info": {
   "codemirror_mode": {
    "name": "ipython",
    "version": 3
   },
   "file_extension": ".py",
   "mimetype": "text/x-python",
   "name": "python",
   "nbconvert_exporter": "python",
   "pygments_lexer": "ipython3",
   "version": "3.7.3"
  }
 },
 "nbformat": 4,
 "nbformat_minor": 2
}
